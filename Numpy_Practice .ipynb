{
 "cells": [
  {
   "cell_type": "markdown",
   "metadata": {},
   "source": [
    "# NumPy Practice\n",
    "The purpose of this notebook is to demonstarte my understanding of utilizing NumPy for Data Analysis. I will be able to manipulate numerical data using statistics, numPy methods, arrays, list, and dictionaries.  \n",
    "\n",
    "**Objective:** Write a function *\"that uses Numpy to output the mean, variance, standard deviation, max, min, and sum of the rows, columns, and elements in a 3 x 3 matrix.\"*"
   ]
  },
  {
   "cell_type": "code",
   "execution_count": 12,
   "metadata": {},
   "outputs": [],
   "source": [
    "# Importing Libraries \n",
    "import pandas as pd\n",
    "import numpy as np"
   ]
  },
  {
   "cell_type": "markdown",
   "metadata": {},
   "source": [
    "# The Function"
   ]
  },
  {
   "cell_type": "code",
   "execution_count": 52,
   "metadata": {},
   "outputs": [],
   "source": [
    "def calculate(list_of_9):\n",
    "    if len(list_of_9) == 9:\n",
    "        try:\n",
    "# Creating the array for the 9 diigt list\n",
    "            a = np.asarray(\n",
    "            list_of_9).reshape(3,3)\n",
    "            a_flat = a.flatten()\n",
    "\n",
    "# Statistical calculations\n",
    "            b=(np.mean(a,axis=0),np.mean(a,axis=1),np.mean(a))\n",
    "            c=(np.var(a,axis=0),np.var(a,axis=1),np.var(a_flat))\n",
    "            d=(np.std(a,axis=0),np.std(a,axis=1),np.std(a_flat))\n",
    "            e=(np.max(a,axis=0),np.max(a,axis=1),np.max(a_flat))\n",
    "            f=(np.min(a,axis=0),np.min(a,axis=1),np.min(a_flat))\n",
    "            g=(np.sum(a,axis=0),np.sum(a,axis=1),np.sum(a_flat))\n",
    "\n",
    "# Dictionary creation\n",
    "            Calculated ={'mean': b,'variance': c,\n",
    "                     'standard deviation': d,'max': e,\n",
    "                     'min': f, 'sum':g}\n",
    "#             for value in Calculated.items():\n",
    "#                 value = value.tolist()\n",
    "          \n",
    "    \n",
    "        except ValueError: print(\"List must contain nine numbers.\")\n",
    "    return Calculated\n",
    "        \n",
    "        \n",
    "\n",
    "        \n",
    "  \n",
    " \n",
    "        \n",
    "# Format of what the function should return \n",
    "\n",
    "#   'mean': [axis1, axis2, flattened],\n",
    "#   'variance': [axis1, axis2, flattened],\n",
    "#   'standard deviation': [axis1, axis2, flattened],\n",
    "#   'max': [axis1, axis2, flattened],\n",
    "#   'min': [axis1, axis2, flattened],\n",
    "#   'sum': [axis1, axis2, flattened]\n",
    "     "
   ]
  },
  {
   "cell_type": "markdown",
   "metadata": {},
   "source": [
    "## Code Testing "
   ]
  },
  {
   "cell_type": "code",
   "execution_count": 14,
   "metadata": {},
   "outputs": [],
   "source": [
    "a = [1,2,3,4,5,6,7,8,9] # Creating a list of int"
   ]
  },
  {
   "cell_type": "code",
   "execution_count": 3,
   "metadata": {},
   "outputs": [],
   "source": [
    "a = np.asarray(a).reshape(3,3) # Changing list to numpy array w/ 3 x 3 metrix "
   ]
  },
  {
   "cell_type": "code",
   "execution_count": 5,
   "metadata": {},
   "outputs": [
    {
     "data": {
      "text/plain": [
       "array([[1, 2, 3],\n",
       "       [4, 5, 6],\n",
       "       [7, 8, 9]])"
      ]
     },
     "execution_count": 5,
     "metadata": {},
     "output_type": "execute_result"
    }
   ],
   "source": [
    "a # Checking the work done"
   ]
  },
  {
   "cell_type": "markdown",
   "metadata": {},
   "source": [
    "# Trying Out The Function "
   ]
  },
  {
   "cell_type": "code",
   "execution_count": 53,
   "metadata": {},
   "outputs": [
    {
     "data": {
      "text/plain": [
       "{'mean': (array([4., 5., 6.]), array([2., 5., 8.]), 5.0),\n",
       " 'variance': (array([6., 6., 6.]),\n",
       "  array([0.66666667, 0.66666667, 0.66666667]),\n",
       "  6.666666666666667),\n",
       " 'standard deviation': (array([2.44948974, 2.44948974, 2.44948974]),\n",
       "  array([0.81649658, 0.81649658, 0.81649658]),\n",
       "  2.581988897471611),\n",
       " 'max': (array([7, 8, 9]), array([3, 6, 9]), 9),\n",
       " 'min': (array([1, 2, 3]), array([1, 4, 7]), 1),\n",
       " 'sum': (array([12, 15, 18]), array([ 6, 15, 24]), 45)}"
      ]
     },
     "execution_count": 53,
     "metadata": {},
     "output_type": "execute_result"
    }
   ],
   "source": [
    "calculate(a) \n",
    "# The function is working but it is returning arrays \n",
    "# We need it to return list of int not arrays "
   ]
  },
  {
   "cell_type": "code",
   "execution_count": 49,
   "metadata": {},
   "outputs": [
    {
     "name": "stdout",
     "output_type": "stream",
     "text": [
      "10\n"
     ]
    }
   ],
   "source": [
    "# Creating a second list that does not have 9 digits in it\n",
    "b = [1,2,3,4,5,6,7,8,9,10]\n",
    "print(len(b))"
   ]
  },
  {
   "cell_type": "code",
   "execution_count": 48,
   "metadata": {
    "scrolled": true
   },
   "outputs": [
    {
     "ename": "UnboundLocalError",
     "evalue": "local variable 'Calculated' referenced before assignment",
     "output_type": "error",
     "traceback": [
      "\u001b[0;31m---------------------------------------------------------------------------\u001b[0m",
      "\u001b[0;31mUnboundLocalError\u001b[0m                         Traceback (most recent call last)",
      "\u001b[0;32m<ipython-input-48-afaf68d0e1d4>\u001b[0m in \u001b[0;36m<module>\u001b[0;34m\u001b[0m\n\u001b[0;32m----> 1\u001b[0;31m \u001b[0mcalculate\u001b[0m\u001b[0;34m(\u001b[0m\u001b[0mb\u001b[0m\u001b[0;34m)\u001b[0m\u001b[0;34m\u001b[0m\u001b[0;34m\u001b[0m\u001b[0m\n\u001b[0m",
      "\u001b[0;32m<ipython-input-45-72aa3464bdc4>\u001b[0m in \u001b[0;36mcalculate\u001b[0;34m(list_of_9)\u001b[0m\n\u001b[1;32m     21\u001b[0m \u001b[0;34m\u001b[0m\u001b[0m\n\u001b[1;32m     22\u001b[0m         \u001b[0;32mexcept\u001b[0m \u001b[0mValueError\u001b[0m\u001b[0;34m:\u001b[0m \u001b[0mprint\u001b[0m\u001b[0;34m(\u001b[0m\u001b[0;34m\"List must contain nine numbers.\"\u001b[0m\u001b[0;34m)\u001b[0m\u001b[0;34m\u001b[0m\u001b[0;34m\u001b[0m\u001b[0m\n\u001b[0;32m---> 23\u001b[0;31m     \u001b[0;32mreturn\u001b[0m \u001b[0mCalculated\u001b[0m\u001b[0;34m\u001b[0m\u001b[0;34m\u001b[0m\u001b[0m\n\u001b[0m\u001b[1;32m     24\u001b[0m \u001b[0;34m\u001b[0m\u001b[0m\n\u001b[1;32m     25\u001b[0m \u001b[0;34m\u001b[0m\u001b[0m\n",
      "\u001b[0;31mUnboundLocalError\u001b[0m: local variable 'Calculated' referenced before assignment"
     ]
    }
   ],
   "source": [
    "calculate(b) # The Value error is not working in the function"
   ]
  },
  {
   "cell_type": "markdown",
   "metadata": {},
   "source": [
    "# Lets Continue ..."
   ]
  },
  {
   "cell_type": "code",
   "execution_count": 169,
   "metadata": {},
   "outputs": [],
   "source": [
    "'''This function is to take in a list of 9 digits, \n",
    "convert the list in to a 3 x 3 numpy matrix,\n",
    "and return a dictionay that holds the statistical calculations \n",
    "of the 3 X 3 matrix for axis 1, axis 2 and  the matrix flattened'''\n",
    "\n",
    "\n",
    "def calculate_2(list_of_9):\n",
    "    if True:\n",
    "        len(list_of_9) == 9\n",
    "        try:\n",
    "\n",
    "# Creation of the array from the 9 digit list\n",
    "            a = np.asarray(\n",
    "            list_of_9).reshape(3,3)\n",
    "            a_flat = a.flatten()\n",
    "\n",
    "#Statistical calculations & coverting numpy arrays to list \n",
    "            b= np.mean(a,axis=0).tolist(),np.mean(a,axis=1).tolist(),np.mean(a_flat).tolist()\n",
    "            c= np.var(a,axis=0).tolist(),np.var(a,axis=1).tolist(),np.var(a_flat).tolist()\n",
    "            d= np.std(a,axis=0).tolist(),np.std(a,axis=1).tolist(),np.std(a_flat).tolist()\n",
    "            e= np.max(a,axis=0).tolist(),np.max(a,axis=1).tolist(),np.max(a_flat).tolist()\n",
    "            f= np.min(a,axis=0).tolist(),np.min(a,axis=1).tolist(),np.min(a_flat).tolist()\n",
    "            g= np.sum(a,axis=0).tolist(),np.sum(a,axis=1).tolist(),np.sum(a_flat).tolist()\n",
    "\n",
    "# Creating the dictionary\n",
    "            Calculated ={'mean': list(b),\n",
    "                         'variance': list(c),\n",
    "                         'standard deviation': list(d),\n",
    "                         'max': list(e),\n",
    "                         'min': list(f),\n",
    "                         'sum': list(g)} \n",
    "        \n",
    "        except ValueError: print(\"List must contain nine numbers.\")\n",
    "        else:\n",
    "            return Calculated"
   ]
  },
  {
   "cell_type": "code",
   "execution_count": 170,
   "metadata": {},
   "outputs": [
    {
     "data": {
      "text/plain": [
       "{'mean': [[4.0, 5.0, 6.0], [2.0, 5.0, 8.0], 5.0],\n",
       " 'variance': [[6.0, 6.0, 6.0],\n",
       "  [0.6666666666666666, 0.6666666666666666, 0.6666666666666666],\n",
       "  6.666666666666667],\n",
       " 'standard deviation': [[2.449489742783178,\n",
       "   2.449489742783178,\n",
       "   2.449489742783178],\n",
       "  [0.816496580927726, 0.816496580927726, 0.816496580927726],\n",
       "  2.581988897471611],\n",
       " 'max': [[7, 8, 9], [3, 6, 9], 9],\n",
       " 'min': [[1, 2, 3], [1, 4, 7], 1],\n",
       " 'sum': [[12, 15, 18], [6, 15, 24], 45]}"
      ]
     },
     "execution_count": 170,
     "metadata": {},
     "output_type": "execute_result"
    }
   ],
   "source": [
    " calculate_2(a) # Testing function"
   ]
  },
  {
   "cell_type": "code",
   "execution_count": 182,
   "metadata": {},
   "outputs": [
    {
     "name": "stdout",
     "output_type": "stream",
     "text": [
      "List must contain nine numbers.\n",
      "length of b: 10\n"
     ]
    }
   ],
   "source": [
    "# Testing error message in function \n",
    "calculate_2(b) \n",
    "print(f'length of b: {len(b)}')"
   ]
  },
  {
   "cell_type": "code",
   "execution_count": 183,
   "metadata": {
    "scrolled": true
   },
   "outputs": [
    {
     "name": "stdout",
     "output_type": "stream",
     "text": [
      "length of b: 7\n"
     ]
    }
   ],
   "source": [
    "c = [2,6,2,8,4,0,1,] # Creating a list of int\n",
    "print(f'length of b: {len(c)}')"
   ]
  },
  {
   "cell_type": "code",
   "execution_count": 176,
   "metadata": {},
   "outputs": [
    {
     "name": "stdout",
     "output_type": "stream",
     "text": [
      "List must contain nine numbers.\n"
     ]
    }
   ],
   "source": [
    "calculate_2(c) # Testing error message in function"
   ]
  },
  {
   "cell_type": "markdown",
   "metadata": {},
   "source": [
    "# Sucess!!!\n",
    "The function is working as well as the value error message. Be sure to follow the link below to view the full description of the challenge.\n",
    "\n",
    "**Link:** https://repl.it/repls/UnluckyVictoriousDecompiler#README.md"
   ]
  }
 ],
 "metadata": {
  "kernelspec": {
   "display_name": "Python 3",
   "language": "python",
   "name": "python3"
  },
  "language_info": {
   "codemirror_mode": {
    "name": "ipython",
    "version": 3
   },
   "file_extension": ".py",
   "mimetype": "text/x-python",
   "name": "python",
   "nbconvert_exporter": "python",
   "pygments_lexer": "ipython3",
   "version": "3.6.9"
  }
 },
 "nbformat": 4,
 "nbformat_minor": 2
}
